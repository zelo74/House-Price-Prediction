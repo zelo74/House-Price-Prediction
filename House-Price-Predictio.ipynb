{
 "cells": [
  {
   "cell_type": "code",
   "execution_count": null,
   "id": "2b66f0fc-2566-489e-b42a-15307b53bad6",
   "metadata": {},
   "outputs": [],
   "source": [
    "import pandas as pd\n",
    "import numpy as np\n",
    "from sklearn.model_selection import train_test_split\n",
    "from sklearn.preprocessing import StandardScaler, OneHotEncoder\n",
    "from sklearn.compose import ColumnTransformer\n",
    "import tensorflow as tf\n",
    "\n",
    "# Load dataset\n",
    "housing_data = pd.read_csv('housing.csv.zip')\n",
    "\n",
    "# Handle missing values by dropping rows with NaN values\n",
    "housing_data_cleaned = housing_data.dropna()\n",
    "\n",
    "# Features and target variable\n",
    "X = housing_data_cleaned[['longitude', 'latitude', 'housing_median_age', 'total_rooms', \n",
    "                          'total_bedrooms', 'population', 'households', 'median_income', 'ocean_proximity']]\n",
    "y = housing_data_cleaned['median_house_value']\n",
    "\n",
    "# Preprocessing\n",
    "numeric_features = ['longitude', 'latitude', 'housing_median_age', 'total_rooms', \n",
    "                    'total_bedrooms', 'population', 'households', 'median_income']\n",
    "categorical_features = ['ocean_proximity']\n",
    "\n",
    "# Create preprocessing pipeline\n",
    "numeric_transformer = StandardScaler()\n",
    "categorical_transformer = OneHotEncoder()\n",
    "\n",
    "preprocessor = ColumnTransformer(\n",
    "    transformers=[\n",
    "        ('num', numeric_transformer, numeric_features),\n",
    "        ('cat', categorical_transformer, categorical_features)\n",
    "    ])\n",
    "\n",
    "# Split the dataset\n",
    "X_train, X_test, y_train, y_test = train_test_split(X, y, test_size=0.2, random_state=42)\n",
    "\n",
    "# Apply preprocessing\n",
    "X_train_processed = preprocessor.fit_transform(X_train)\n",
    "X_test_processed = preprocessor.transform(X_test)\n",
    "\n",
    "# Build the model\n",
    "model = tf.keras.models.Sequential([\n",
    "    tf.keras.layers.Dense(64, activation='relu', input_shape=(X_train_processed.shape[1],)),\n",
    "    tf.keras.layers.Dense(32, activation='relu'),\n",
    "    tf.keras.layers.Dense(1)  # Output layer for regression\n",
    "])\n",
    "\n",
    "# Compile the model\n",
    "model.compile(optimizer='adam', loss='mean_squared_error', metrics=['mae'])\n",
    "\n",
    "# Train the model\n",
    "model.fit(X_train_processed, y_train, epochs=50, batch_size=32, validation_split=0.2)\n",
    "\n",
    "# Evaluate the model\n",
    "test_loss, test_mae = model.evaluate(X_test_processed, y_test)\n",
    "print(f\"Test MAE: {test_mae}\")\n"
   ]
  },
  {
   "cell_type": "code",
   "execution_count": null,
   "id": "55a22b22-37bf-47c6-a101-7f835c9e80e4",
   "metadata": {},
   "outputs": [],
   "source": [
    "import pickle\n",
    "\n",
    "# Assuming preprocessor is already fitted on the training data\n",
    "with open('preprocessor.pkl', 'wb') as f:\n",
    "    pickle.dump(preprocessor, f)\n"
   ]
  },
  {
   "cell_type": "code",
   "execution_count": null,
   "id": "956e0e0d-53a4-4615-b5d5-ee3f6d8c1528",
   "metadata": {},
   "outputs": [],
   "source": [
    "# Example new house data\n",
    "new_house_data = pd.DataFrame({\n",
    "    'longitude': [-122.23],\n",
    "    'latitude': [37.88],\n",
    "    'housing_median_age': [41],\n",
    "    'total_rooms': [880],\n",
    "    'total_bedrooms': [129],\n",
    "    'population': [322],\n",
    "    'households': [126],\n",
    "    'median_income': [8.3252],\n",
    "    'ocean_proximity': ['NEAR BAY']  # This is a categorical value\n",
    "})\n",
    "\n",
    "# Preprocess the new data (use the same preprocessor pipeline)\n",
    "new_house_processed = preprocessor.transform(new_house_data)\n",
    "\n",
    "# Make the prediction\n",
    "predicted_price = model.predict(new_house_processed)\n",
    "print(f\"Predicted House Price: {predicted_price[0][0]}\")\n"
   ]
  },
  {
   "cell_type": "code",
   "execution_count": null,
   "id": "68f499a5-46c7-4d95-9f03-191bd9932145",
   "metadata": {},
   "outputs": [],
   "source": [
    "model.save('house_price_model.h5')"
   ]
  },
  {
   "cell_type": "code",
   "execution_count": null,
   "id": "073902bf-9192-4d5d-ae87-770581a2f9e3",
   "metadata": {},
   "outputs": [],
   "source": [
    "# Load the model from the file\n",
    "loaded_model = tf.keras.models.load_model('house_price_model.h5')\n",
    "\n",
    "# Use the loaded model to make predictions (similar to the earlier example)\n",
    "predicted_price = loaded_model.predict(new_house_processed)\n",
    "print(f\"Predicted House Price: {predicted_price[0][0]}\")\n"
   ]
  },
  {
   "cell_type": "code",
   "execution_count": null,
   "id": "8012ef6c-0f4e-4bca-b21c-8e88a288b27e",
   "metadata": {},
   "outputs": [],
   "source": []
  },
  {
   "cell_type": "code",
   "execution_count": null,
   "id": "687a6a60-413c-4f5f-b72b-b701bc58915d",
   "metadata": {},
   "outputs": [],
   "source": []
  }
 ],
 "metadata": {
  "kernelspec": {
   "display_name": "Python 3 (ipykernel)",
   "language": "python",
   "name": "python3"
  },
  "language_info": {
   "codemirror_mode": {
    "name": "ipython",
    "version": 3
   },
   "file_extension": ".py",
   "mimetype": "text/x-python",
   "name": "python",
   "nbconvert_exporter": "python",
   "pygments_lexer": "ipython3",
   "version": "3.12.4"
  }
 },
 "nbformat": 4,
 "nbformat_minor": 5
}
